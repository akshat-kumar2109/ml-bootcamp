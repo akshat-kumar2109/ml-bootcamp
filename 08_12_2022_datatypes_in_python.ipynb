{
 "cells": [
  {
   "cell_type": "code",
   "execution_count": 1,
   "id": "35976101-a8e4-44ed-b63c-36cc4cdb9ed1",
   "metadata": {},
   "outputs": [],
   "source": [
    "a=10"
   ]
  },
  {
   "cell_type": "code",
   "execution_count": 2,
   "id": "cd80aa50-3743-4961-a6f9-add1a9d2262d",
   "metadata": {},
   "outputs": [
    {
     "data": {
      "text/plain": [
       "int"
      ]
     },
     "execution_count": 2,
     "metadata": {},
     "output_type": "execute_result"
    }
   ],
   "source": [
    "type(a)"
   ]
  },
  {
   "cell_type": "code",
   "execution_count": 3,
   "id": "ebd644a8-0252-47e6-bd66-63804e704d3b",
   "metadata": {},
   "outputs": [],
   "source": [
    "b=10.45"
   ]
  },
  {
   "cell_type": "code",
   "execution_count": 4,
   "id": "5c450d86-33d9-40c6-9101-2cec41629dcd",
   "metadata": {},
   "outputs": [
    {
     "data": {
      "text/plain": [
       "float"
      ]
     },
     "execution_count": 4,
     "metadata": {},
     "output_type": "execute_result"
    }
   ],
   "source": [
    "type(b)"
   ]
  },
  {
   "cell_type": "code",
   "execution_count": 5,
   "id": "5b00c5c0-f45e-4d68-a9f6-0196695c2ce9",
   "metadata": {},
   "outputs": [],
   "source": [
    "c='akshat'"
   ]
  },
  {
   "cell_type": "code",
   "execution_count": 6,
   "id": "9407a0fb-71c7-45b0-8f0a-e60e036cfdd4",
   "metadata": {},
   "outputs": [
    {
     "data": {
      "text/plain": [
       "str"
      ]
     },
     "execution_count": 6,
     "metadata": {},
     "output_type": "execute_result"
    }
   ],
   "source": [
    "type(c)"
   ]
  },
  {
   "cell_type": "code",
   "execution_count": 7,
   "id": "0e3a42a7-5928-4622-8b8c-06bd6a188ecb",
   "metadata": {},
   "outputs": [],
   "source": [
    "d=\"A\""
   ]
  },
  {
   "cell_type": "code",
   "execution_count": 8,
   "id": "b26d21eb-5b75-457f-8324-d9ee27edcb43",
   "metadata": {},
   "outputs": [
    {
     "data": {
      "text/plain": [
       "str"
      ]
     },
     "execution_count": 8,
     "metadata": {},
     "output_type": "execute_result"
    }
   ],
   "source": [
    "type(d)"
   ]
  },
  {
   "cell_type": "code",
   "execution_count": 9,
   "id": "15396fd0-7752-4de4-b532-38a41a2feb0a",
   "metadata": {},
   "outputs": [
    {
     "data": {
      "text/plain": [
       "str"
      ]
     },
     "execution_count": 9,
     "metadata": {},
     "output_type": "execute_result"
    }
   ],
   "source": [
    "type(c[0])"
   ]
  },
  {
   "cell_type": "code",
   "execution_count": 10,
   "id": "f2b4710b-8b7d-405a-8374-be4ee991cce5",
   "metadata": {},
   "outputs": [],
   "source": [
    "a=121232344545954986064846794604834342"
   ]
  },
  {
   "cell_type": "code",
   "execution_count": 11,
   "id": "59e5dc5f-ac88-4141-a279-17fa73364f61",
   "metadata": {},
   "outputs": [
    {
     "data": {
      "text/plain": [
       "int"
      ]
     },
     "execution_count": 11,
     "metadata": {},
     "output_type": "execute_result"
    }
   ],
   "source": [
    "type(a)"
   ]
  },
  {
   "cell_type": "code",
   "execution_count": 12,
   "id": "9a20ab29-6107-4951-acb4-5cb2d41b6736",
   "metadata": {},
   "outputs": [
    {
     "data": {
      "text/plain": [
       "36"
      ]
     },
     "execution_count": 12,
     "metadata": {},
     "output_type": "execute_result"
    }
   ],
   "source": [
    "import sys\n",
    "a=1234567890987665543221\n",
    "sys.getsizeof(a)"
   ]
  },
  {
   "cell_type": "code",
   "execution_count": 15,
   "id": "77ea8f8d-a1e7-4457-87d3-ac4dd61ec28f",
   "metadata": {},
   "outputs": [
    {
     "data": {
      "text/plain": [
       "28"
      ]
     },
     "execution_count": 15,
     "metadata": {},
     "output_type": "execute_result"
    }
   ],
   "source": [
    "a=213323\n",
    "sys.getsizeof(a) # size can be changing according to value"
   ]
  },
  {
   "cell_type": "code",
   "execution_count": 17,
   "id": "31520d63-8766-4a3f-aad0-5ab893ac460c",
   "metadata": {},
   "outputs": [
    {
     "data": {
      "text/plain": [
       "bool"
      ]
     },
     "execution_count": 17,
     "metadata": {},
     "output_type": "execute_result"
    }
   ],
   "source": [
    "a=True  # treated as 1 in backend\n",
    "type(a)"
   ]
  },
  {
   "cell_type": "code",
   "execution_count": 18,
   "id": "5088e589-3e5c-492f-a1a6-a7cafd6abfbd",
   "metadata": {},
   "outputs": [
    {
     "data": {
      "text/plain": [
       "bool"
      ]
     },
     "execution_count": 18,
     "metadata": {},
     "output_type": "execute_result"
    }
   ],
   "source": [
    "a=False   # trated as 0 in backend\n",
    "type(a)"
   ]
  },
  {
   "cell_type": "code",
   "execution_count": 19,
   "id": "3579a546-58b5-4ed0-ac79-d201e017e293",
   "metadata": {},
   "outputs": [
    {
     "data": {
      "text/plain": [
       "2"
      ]
     },
     "execution_count": 19,
     "metadata": {},
     "output_type": "execute_result"
    }
   ],
   "source": [
    "True+True"
   ]
  },
  {
   "cell_type": "code",
   "execution_count": 20,
   "id": "62214118-e45f-49b4-916b-91379a0a6eb3",
   "metadata": {},
   "outputs": [
    {
     "data": {
      "text/plain": [
       "int"
      ]
     },
     "execution_count": 20,
     "metadata": {},
     "output_type": "execute_result"
    }
   ],
   "source": [
    "type(True+True)"
   ]
  },
  {
   "cell_type": "code",
   "execution_count": 24,
   "id": "ccca3a08-0fc9-4a4b-927b-4d28b0178c49",
   "metadata": {},
   "outputs": [
    {
     "data": {
      "text/plain": [
       "24"
      ]
     },
     "execution_count": 24,
     "metadata": {},
     "output_type": "execute_result"
    }
   ],
   "source": [
    "a=False\n",
    "sys.getsizeof(a)"
   ]
  },
  {
   "cell_type": "code",
   "execution_count": 25,
   "id": "212c2036-c2aa-477d-8f8f-a68eae3e89ec",
   "metadata": {},
   "outputs": [
    {
     "data": {
      "text/plain": [
       "28"
      ]
     },
     "execution_count": 25,
     "metadata": {},
     "output_type": "execute_result"
    }
   ],
   "source": [
    "a=True\n",
    "sys.getsizeof(a)"
   ]
  },
  {
   "cell_type": "code",
   "execution_count": 3,
   "id": "53844ceb-5430-478b-b4f7-d8445ab41308",
   "metadata": {},
   "outputs": [
    {
     "name": "stdout",
     "output_type": "stream",
     "text": [
      "let's learn \"python\"\n"
     ]
    }
   ],
   "source": [
    "a=\"let's learn \\\"python\\\"\"\n",
    "print(a)"
   ]
  },
  {
   "cell_type": "code",
   "execution_count": 5,
   "id": "ebf81a1a-04d7-49e0-8a58-85d1c0dbfdb3",
   "metadata": {},
   "outputs": [
    {
     "name": "stdout",
     "output_type": "stream",
     "text": [
      "let's learn \"python\" \n"
     ]
    }
   ],
   "source": [
    "a=\"\"\"let's learn \\\"python\\\" \"\"\"   # multiline string\n",
    "print(a)"
   ]
  },
  {
   "cell_type": "code",
   "execution_count": 9,
   "id": "855d2a85-2302-4be6-9332-77d62ef34808",
   "metadata": {},
   "outputs": [
    {
     "name": "stdout",
     "output_type": "stream",
     "text": [
      "My\n",
      "Name\n",
      "Is\n",
      "Akshat\n"
     ]
    }
   ],
   "source": [
    "my_string=\"\"\"My\n",
    "Name\n",
    "Is\n",
    "Akshat\"\"\"\n",
    "print(my_string)"
   ]
  },
  {
   "cell_type": "markdown",
   "id": "8e9bebe3-feea-450d-b7a8-957ec0858c94",
   "metadata": {},
   "source": [
    "# Type Conversion"
   ]
  },
  {
   "cell_type": "code",
   "execution_count": 10,
   "id": "a831fca6-1d3e-48b2-b4a9-b30dcd00cd41",
   "metadata": {},
   "outputs": [],
   "source": [
    "a=100"
   ]
  },
  {
   "cell_type": "code",
   "execution_count": 11,
   "id": "a3e878ea-7208-420c-b660-9910d904e5c4",
   "metadata": {},
   "outputs": [],
   "source": [
    "b=float(a)"
   ]
  },
  {
   "cell_type": "code",
   "execution_count": 12,
   "id": "e5a120b0-64b6-46cf-8410-dcc07d39631f",
   "metadata": {},
   "outputs": [
    {
     "data": {
      "text/plain": [
       "float"
      ]
     },
     "execution_count": 12,
     "metadata": {},
     "output_type": "execute_result"
    }
   ],
   "source": [
    "type(b)"
   ]
  },
  {
   "cell_type": "code",
   "execution_count": 13,
   "id": "42bbed81-0743-48ef-a8b0-d93ff713ee36",
   "metadata": {},
   "outputs": [],
   "source": [
    "a='10'\n",
    "b='20'"
   ]
  },
  {
   "cell_type": "code",
   "execution_count": 14,
   "id": "eae47559-0093-4324-b5dd-f5bf2937d0c8",
   "metadata": {},
   "outputs": [
    {
     "name": "stdout",
     "output_type": "stream",
     "text": [
      "30\n"
     ]
    }
   ],
   "source": [
    "print(int(a)+int(b))"
   ]
  },
  {
   "cell_type": "code",
   "execution_count": 15,
   "id": "2d6171dd-53cc-4b2f-8094-32a074c064d3",
   "metadata": {},
   "outputs": [
    {
     "name": "stdin",
     "output_type": "stream",
     "text": [
      "Enter a's value:  3\n",
      "Enter b's value:  5\n"
     ]
    },
    {
     "name": "stdout",
     "output_type": "stream",
     "text": [
      "-2\n"
     ]
    }
   ],
   "source": [
    "a=int(input(\"Enter a's value: \"))\n",
    "b=int(input(\"Enter b's value: \"))\n",
    "print(a-b)"
   ]
  },
  {
   "cell_type": "code",
   "execution_count": 17,
   "id": "e912d3d2-8fb2-474f-834a-edb4dfddfb9d",
   "metadata": {},
   "outputs": [
    {
     "name": "stdout",
     "output_type": "stream",
     "text": [
      "10.5\n"
     ]
    },
    {
     "data": {
      "text/plain": [
       "float"
      ]
     },
     "execution_count": 17,
     "metadata": {},
     "output_type": "execute_result"
    }
   ],
   "source": [
    "# implicit type conversion\n",
    "a=10\n",
    "b=0.5\n",
    "c=a+b\n",
    "print(c)\n",
    "type(c)"
   ]
  },
  {
   "cell_type": "code",
   "execution_count": 20,
   "id": "1c6f3a04-dc43-4252-81bc-4dea21249bd2",
   "metadata": {},
   "outputs": [
    {
     "name": "stdout",
     "output_type": "stream",
     "text": [
      "(25+0j)\n"
     ]
    }
   ],
   "source": [
    "a=complex(25)\n",
    "type(a)\n",
    "print(a)"
   ]
  },
  {
   "cell_type": "code",
   "execution_count": null,
   "id": "7c1c2943-9fe2-440b-beab-d1e058cada06",
   "metadata": {},
   "outputs": [],
   "source": []
  }
 ],
 "metadata": {
  "kernelspec": {
   "display_name": "Python 3 (ipykernel)",
   "language": "python",
   "name": "python3"
  },
  "language_info": {
   "codemirror_mode": {
    "name": "ipython",
    "version": 3
   },
   "file_extension": ".py",
   "mimetype": "text/x-python",
   "name": "python",
   "nbconvert_exporter": "python",
   "pygments_lexer": "ipython3",
   "version": "3.10.6"
  }
 },
 "nbformat": 4,
 "nbformat_minor": 5
}
