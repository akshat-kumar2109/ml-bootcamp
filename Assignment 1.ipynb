{
 "cells": [
  {
   "cell_type": "markdown",
   "id": "f3f70775",
   "metadata": {},
   "source": [
    "## 13-12-2022"
   ]
  },
  {
   "cell_type": "markdown",
   "id": "885194fa",
   "metadata": {},
   "source": [
    "## WAP to accept two numbers from the user and display their sum"
   ]
  },
  {
   "cell_type": "code",
   "execution_count": 16,
   "id": "ab4acd6a",
   "metadata": {},
   "outputs": [
    {
     "name": "stdout",
     "output_type": "stream",
     "text": [
      "Enter 1st number: 10\n",
      "Enter 2nd number: 20\n",
      "Sum of 10 and 20 is 30\n"
     ]
    }
   ],
   "source": [
    "a = int(input(\"Enter 1st number: \"))\n",
    "b = int(input(\"Enter 2nd number: \"))\n",
    "\n",
    "res = a + b\n",
    "\n",
    "print(\"Sum of\", a, \"and\", b, \"is\", res)"
   ]
  },
  {
   "cell_type": "markdown",
   "id": "680e005d",
   "metadata": {},
   "source": [
    "##  WAP to accept radius of a Circle from the user and calculate area and circumference"
   ]
  },
  {
   "cell_type": "code",
   "execution_count": 2,
   "id": "5de156e8",
   "metadata": {},
   "outputs": [
    {
     "name": "stdout",
     "output_type": "stream",
     "text": [
      "Enter radius of circle: 5\n",
      "Area of circle with radius 5.0 is 78.5\n",
      "Circumference of circle with radius 5.0 is 31.400000000000002\n"
     ]
    }
   ],
   "source": [
    "r = float(input(\"Enter radius of circle: \"))\n",
    "\n",
    "area = 3.14 * r * r\n",
    "circum = 2 * 3.14 * r\n",
    "\n",
    "print(\"Area of circle with radius\", r, \"is\", area)\n",
    "print(\"Circumference of circle with radius\", r, \"is\", circum)"
   ]
  },
  {
   "cell_type": "markdown",
   "id": "ba699ca5",
   "metadata": {},
   "source": [
    "## WAP to accept roll number , grade and percentage as input from the user and display it back"
   ]
  },
  {
   "cell_type": "code",
   "execution_count": 4,
   "id": "471611c4",
   "metadata": {},
   "outputs": [
    {
     "name": "stdout",
     "output_type": "stream",
     "text": [
      "Enter your Roll Number: 21\n",
      "Enter your grade: A\n",
      "Enter your percentage: 92\n",
      "Your roll number is 21, grade is A, percentage is 92.0\n"
     ]
    }
   ],
   "source": [
    "roll = int(input(\"Enter your Roll Number: \"))\n",
    "grade = input(\"Enter your grade: \")\n",
    "percentage = float(input(\"Enter your percentage: \"))\n",
    "\n",
    "print(\"Your roll number is\", str(roll) + \",\", \"grade is\", str(grade) + \",\", \"percentage is\", percentage)"
   ]
  },
  {
   "cell_type": "markdown",
   "id": "c891d6d9",
   "metadata": {},
   "source": [
    "## Write a program that asks the user to enter his/her name and age. Print out a message , displaying the user’s name along with the year in which they will turn 100 years old."
   ]
  },
  {
   "cell_type": "code",
   "execution_count": 11,
   "id": "03da165b",
   "metadata": {},
   "outputs": [
    {
     "name": "stdout",
     "output_type": "stream",
     "text": [
      "Write your name: Akshat\n",
      "Write your age: 21\n",
      "Your name is Akshat and you will turn 100 years old in 2101\n"
     ]
    }
   ],
   "source": [
    "from datetime import date\n",
    "\n",
    "name = input(\"Write your name: \")\n",
    "age = int(input(\"Write your age: \"))\n",
    "\n",
    "year = str(date.today()).split(\"-\")[0]\n",
    "year = int(year) + (100 - age)\n",
    "\n",
    "print(\"Your name is\", name, \"and you will turn 100 years old in\", year)"
   ]
  },
  {
   "cell_type": "markdown",
   "id": "0666216c",
   "metadata": {},
   "source": [
    "## Write a program that asks the user to input 2 integers and adds them . Accept both the numbers in a single line only"
   ]
  },
  {
   "cell_type": "code",
   "execution_count": 2,
   "id": "8ccfa3aa",
   "metadata": {},
   "outputs": [
    {
     "name": "stdout",
     "output_type": "stream",
     "text": [
      "Enter the numbers: 4 5\n",
      "Sum of 4 and 5 is 9\n"
     ]
    }
   ],
   "source": [
    "a,b = input(\"Enter the numbers: \").split()\n",
    "res = int(a) + int(b)\n",
    "\n",
    "print(\"Sum of\", a, \"and\", b, \"is\", res)"
   ]
  },
  {
   "cell_type": "markdown",
   "id": "19a4fd87",
   "metadata": {},
   "source": [
    "## Write a Python program which accepts the user's first and last name and print them in reverse order with a space between them."
   ]
  },
  {
   "cell_type": "code",
   "execution_count": 3,
   "id": "5d9ee8a8",
   "metadata": {},
   "outputs": [
    {
     "name": "stdout",
     "output_type": "stream",
     "text": [
      "Enter your full name:Akshat Kumar\n",
      "tahskA ramuK\n"
     ]
    }
   ],
   "source": [
    "first, last = input(\"Enter your full name:\").split()\n",
    "\n",
    "print(first[::-1], last[::-1])"
   ]
  },
  {
   "cell_type": "markdown",
   "id": "c11ee441",
   "metadata": {},
   "source": [
    "## 15-12-2022"
   ]
  },
  {
   "cell_type": "markdown",
   "id": "1d499eb2",
   "metadata": {},
   "source": [
    "## WAP to accept an integer from the user and check whether it is an even or odd "
   ]
  },
  {
   "cell_type": "code",
   "execution_count": 18,
   "id": "a509fcfd",
   "metadata": {},
   "outputs": [
    {
     "name": "stdout",
     "output_type": "stream",
     "text": [
      "Enter a number:3\n",
      "Entered number is Odd\n"
     ]
    }
   ],
   "source": [
    "num = int(input(\"Enter a number:\"))\n",
    "\n",
    "if num % 2 == 0:\n",
    "    print(\"Entered number is Even\")\n",
    "else:\n",
    "    print(\"Entered number is Odd\")"
   ]
  },
  {
   "cell_type": "markdown",
   "id": "da1bb3a7",
   "metadata": {},
   "source": [
    "## WAP to accept a character from the user and check whether it is a capital letter or small letter. Assume user will input only alphabets"
   ]
  },
  {
   "cell_type": "code",
   "execution_count": 19,
   "id": "8f0f8bed",
   "metadata": {},
   "outputs": [
    {
     "name": "stdout",
     "output_type": "stream",
     "text": [
      "Enter a character:a\n",
      "Small letter\n"
     ]
    }
   ],
   "source": [
    "ch = input(\"Enter a character:\")\n",
    "\n",
    "ch = ord(ch)\n",
    "\n",
    "if ch >= 65 and ch <= 90:\n",
    "    print(\"Capital letter\")\n",
    "elif ch >= 97 and ch <= 122:\n",
    "    print(\"Small letter\")\n",
    "else:\n",
    "    print(\"Invalid letter\")"
   ]
  },
  {
   "cell_type": "markdown",
   "id": "234275a1",
   "metadata": {},
   "source": [
    "## WAP to accept a character from the user and check whether it is a capital letter or small letter or a digit or some special symbol"
   ]
  },
  {
   "cell_type": "code",
   "execution_count": 9,
   "id": "7dab50ad",
   "metadata": {},
   "outputs": [
    {
     "name": "stdout",
     "output_type": "stream",
     "text": [
      "Enter a character: #\n",
      "Special Symbol\n"
     ]
    }
   ],
   "source": [
    "ch = input(\"Enter a character: \")\n",
    "\n",
    "if ch.isalpha():\n",
    "    ch = ord(ch)\n",
    "    if ch >= 65 and ch <= 90:\n",
    "        print(\"Capital letter\")\n",
    "    else:\n",
    "        print(\"Small letter\")\n",
    "elif ch.isnumeric():\n",
    "    print(\"Digit\")\n",
    "else:\n",
    "    print(\"Special Symbol\")"
   ]
  },
  {
   "cell_type": "markdown",
   "id": "587b0b4a",
   "metadata": {},
   "source": [
    "## WAP to accept 3 integers from the user and without using any logical operator and cascading of relational operators , find out the greatest number amongst them"
   ]
  },
  {
   "cell_type": "code",
   "execution_count": null,
   "id": "da716889",
   "metadata": {},
   "outputs": [],
   "source": [
    "a,b,c = int(input(\"Enter 1st number: \")), int(input(\"Enter 2nd number: \")), int(input(\"Enter 3rd number: \"))\n",
    "\n"
   ]
  },
  {
   "cell_type": "markdown",
   "id": "7963f505",
   "metadata": {},
   "source": [
    "## WAP to accept a year from the user and check whether it is a leap year or not."
   ]
  },
  {
   "cell_type": "code",
   "execution_count": 13,
   "id": "749b219d",
   "metadata": {},
   "outputs": [
    {
     "name": "stdout",
     "output_type": "stream",
     "text": [
      "Enter any year: 2000\n",
      "2000 is a leap year.\n"
     ]
    }
   ],
   "source": [
    "year = int(input(\"Enter any year: \"))\n",
    "\n",
    "if (year % 4 == 0 and year % 100 != 0) or year % 400 == 0:\n",
    "    print(year, \"is a leap year.\")\n",
    "else:\n",
    "    print(year, \"is not a leap year.\")"
   ]
  },
  {
   "cell_type": "markdown",
   "id": "94e5f843",
   "metadata": {},
   "source": [
    "## Guessing Game"
   ]
  },
  {
   "cell_type": "code",
   "execution_count": 14,
   "id": "87caca2b",
   "metadata": {},
   "outputs": [
    {
     "name": "stdout",
     "output_type": "stream",
     "text": [
      "Enter your guess: 3\n",
      "Number too small\n",
      "Enter your guess: 54\n",
      "Number too small\n",
      "Enter your guess: 66666\n",
      "Number too small\n",
      "Enter your guess: 999999999\n",
      "Number too small\n",
      "Enter your guess: 437549224975692442\n",
      "Number too large\n",
      "Enter your guess: 0\n"
     ]
    }
   ],
   "source": [
    "import random\n",
    "\n",
    "num = random.randint(1, 10000000000000000)\n",
    "guess = 0\n",
    "\n",
    "while True:\n",
    "    guess = int(input(\"Enter your guess: \"))\n",
    "    \n",
    "    if guess <= 0:\n",
    "        break\n",
    "    elif guess == num:\n",
    "        print(\"Congratulations! You guessed it right\")\n",
    "    elif guess > num:\n",
    "        print(\"Number too large\")\n",
    "    else:\n",
    "        print(\"Number too small\")"
   ]
  },
  {
   "cell_type": "markdown",
   "id": "a0b3caa8",
   "metadata": {},
   "source": [
    "## Write a program to accept a string from the user and display it vertically but don’t display the vowels in it."
   ]
  },
  {
   "cell_type": "code",
   "execution_count": 15,
   "id": "1f9c91c7",
   "metadata": {},
   "outputs": [
    {
     "name": "stdout",
     "output_type": "stream",
     "text": [
      "Enter a string: Akshat Kumar\n",
      "k\n",
      "s\n",
      "h\n",
      "t\n",
      " \n",
      "K\n",
      "m\n",
      "r\n"
     ]
    }
   ],
   "source": [
    "s = input(\"Enter a string: \")\n",
    "\n",
    "for ch in s:\n",
    "    if ch not in \"AEIOUaeiou\":\n",
    "        print(ch)"
   ]
  },
  {
   "cell_type": "markdown",
   "id": "a5dcc0be",
   "metadata": {},
   "source": [
    "## Write a program to continuously accept integers from the user until the user types 0 and as soon as 0 is entered display sum of all the nos entered before 0"
   ]
  },
  {
   "cell_type": "code",
   "execution_count": 17,
   "id": "6684f938",
   "metadata": {},
   "outputs": [
    {
     "name": "stdout",
     "output_type": "stream",
     "text": [
      "Enter a number (>0):12\n",
      "Enter a number (>0):12\n",
      "Enter a number (>0):4324\n",
      "Enter a number (>0):543\n",
      "Enter a number (>0):564\n",
      "Enter a number (>0):657\n",
      "Enter a number (>0):5\n",
      "Enter a number (>0):-1\n",
      "Enter a number (>0):0\n",
      "6116\n"
     ]
    }
   ],
   "source": [
    "res = 0\n",
    "\n",
    "while True:\n",
    "    num = int(input(\"Enter a number (>0):\"))\n",
    "    \n",
    "    if num == 0:\n",
    "        print(res)\n",
    "        break\n",
    "    \n",
    "    res += num"
   ]
  },
  {
   "cell_type": "markdown",
   "id": "d50d130b",
   "metadata": {},
   "source": [
    "## Write a program using a for loop to accept a string from the user and display it vertically but don’t display the vowels in it."
   ]
  },
  {
   "cell_type": "code",
   "execution_count": null,
   "id": "0f4ff506",
   "metadata": {},
   "outputs": [],
   "source": [
    "s = input(\"Enter a string: \")\n",
    "\n",
    "for ch in s:\n",
    "    if ch not in \"AEIOUaeiou\":\n",
    "        print(ch)"
   ]
  },
  {
   "cell_type": "markdown",
   "id": "2218eaa0",
   "metadata": {},
   "source": [
    "## Write a program to accept an integer from the user and display the sum of all the numbers from 1 to that number."
   ]
  },
  {
   "cell_type": "code",
   "execution_count": 20,
   "id": "a5b4aa8b",
   "metadata": {},
   "outputs": [
    {
     "name": "stdout",
     "output_type": "stream",
     "text": [
      "Enter a number: 10\n",
      "55\n"
     ]
    }
   ],
   "source": [
    "num = int(input(\"Enter a number: \"))\n",
    "\n",
    "res = 0\n",
    "for num in range(1, num + 1):\n",
    "    res += num\n",
    "\n",
    "print(res)"
   ]
  },
  {
   "cell_type": "markdown",
   "id": "fab198ac",
   "metadata": {},
   "source": [
    "## Write a program to accept an integer from the user and calculate its factorial"
   ]
  },
  {
   "cell_type": "code",
   "execution_count": 21,
   "id": "c1079c1a",
   "metadata": {},
   "outputs": [
    {
     "name": "stdout",
     "output_type": "stream",
     "text": [
      "Enter a number to calculate it's factorial: 5\n",
      "120\n"
     ]
    }
   ],
   "source": [
    "n = int(input(\"Enter a number to calculate it's factorial: \"))\n",
    "\n",
    "res = 1\n",
    "for i in range(1, n + 1):\n",
    "    res *= i\n",
    "    \n",
    "print(res)"
   ]
  },
  {
   "cell_type": "markdown",
   "id": "e0c02ee2",
   "metadata": {},
   "source": [
    "## Pattern"
   ]
  },
  {
   "cell_type": "code",
   "execution_count": 24,
   "id": "7bd57ff2",
   "metadata": {},
   "outputs": [
    {
     "name": "stdout",
     "output_type": "stream",
     "text": [
      "* * * \n",
      "* * * \n",
      "* * * \n",
      "* * * \n"
     ]
    }
   ],
   "source": [
    "n = 4\n",
    "m = 3\n",
    "\n",
    "for i in range(0,n):\n",
    "    for j in range(0,m):\n",
    "        print(\"* \", end=\"\")\n",
    "    print()"
   ]
  },
  {
   "cell_type": "code",
   "execution_count": 25,
   "id": "27aa841d",
   "metadata": {},
   "outputs": [
    {
     "name": "stdout",
     "output_type": "stream",
     "text": [
      "* \n",
      "* * \n",
      "* * * \n",
      "* * * * \n"
     ]
    }
   ],
   "source": [
    "n = 4\n",
    "m = 4\n",
    "\n",
    "for i in range(0,n):\n",
    "    for j in range(0,i+1):\n",
    "        print(\"* \", end=\"\")\n",
    "    print()"
   ]
  },
  {
   "cell_type": "code",
   "execution_count": 28,
   "id": "e59cea75",
   "metadata": {},
   "outputs": [
    {
     "name": "stdout",
     "output_type": "stream",
     "text": [
      "* * * * \n",
      "* * * \n",
      "* * \n",
      "* \n"
     ]
    }
   ],
   "source": [
    "n = 4\n",
    "m = 4\n",
    "\n",
    "for i in range(0,n):\n",
    "    for j in range(0,n-i):\n",
    "        print(\"* \", end=\"\")\n",
    "    print()"
   ]
  },
  {
   "cell_type": "markdown",
   "id": "e69a4a0d",
   "metadata": {},
   "source": [
    "## Write a program to accept an integer from the user and display all the numbers from 1 to that number. Repeat the process until the user enters 0."
   ]
  },
  {
   "cell_type": "code",
   "execution_count": null,
   "id": "78801530",
   "metadata": {},
   "outputs": [],
   "source": [
    "while True:\n",
    "    n = int(input(\"Enter a number: \"))\n",
    "    \n",
    "    if n == 0:\n",
    "        break\n",
    "    \n",
    "    for i in range(1, n+1):\n",
    "        print(i, end=\" \")\n",
    "    print()"
   ]
  },
  {
   "cell_type": "code",
   "execution_count": null,
   "id": "ff374423",
   "metadata": {},
   "outputs": [],
   "source": []
  },
  {
   "cell_type": "code",
   "execution_count": null,
   "id": "6e316bf1",
   "metadata": {},
   "outputs": [],
   "source": []
  }
 ],
 "metadata": {
  "kernelspec": {
   "display_name": "Python 3 (ipykernel)",
   "language": "python",
   "name": "python3"
  },
  "language_info": {
   "codemirror_mode": {
    "name": "ipython",
    "version": 3
   },
   "file_extension": ".py",
   "mimetype": "text/x-python",
   "name": "python",
   "nbconvert_exporter": "python",
   "pygments_lexer": "ipython3",
   "version": "3.9.13"
  }
 },
 "nbformat": 4,
 "nbformat_minor": 5
}
